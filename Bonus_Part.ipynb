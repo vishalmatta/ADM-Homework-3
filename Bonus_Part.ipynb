{
 "cells": [
  {
   "cell_type": "code",
   "execution_count": 119,
   "metadata": {},
   "outputs": [],
   "source": [
    "import heapq,math,json,os,re,io,string,nltk,unicodedata,numpy as np,pandas as pd\n",
    "from collections import defaultdict\n",
    "from nltk.tokenize import RegexpTokenizer\n",
    "from nltk.corpus import stopwords\n",
    "from nltk.tokenize import word_tokenize\n",
    "from nltk.stem import WordNetLemmatizer\n",
    "wordnet_lemmatizer = WordNetLemmatizer()\n",
    "from nltk.stem import PorterStemmer\n",
    "import networkx as nx\n",
    "import matplotlib.pyplot as plt"
   ]
  },
  {
   "cell_type": "code",
   "execution_count": 16,
   "metadata": {},
   "outputs": [],
   "source": [
    "with open(r'C:\\Users\\Gabriele\\Desktop\\vocabulary.json', 'r') as fp:\n",
    "    data = json.load(fp)\n",
    "with open(r'C:\\Users\\Gabriele\\Desktop\\doc_ids.json', 'r') as fp:\n",
    "    doc_ids = json.load(fp)\n",
    "with open('index1.json', 'r') as fp:\n",
    "    index = json.load(fp)\n",
    "with open('json.json', 'r') as fp:\n",
    "    url_title = json.load(fp)\n",
    "with open('index2.json', 'r') as fp:\n",
    "    index2 = json.load(fp)"
   ]
  },
  {
   "cell_type": "code",
   "execution_count": 17,
   "metadata": {},
   "outputs": [],
   "source": [
    "def preprocessor_query(query):\n",
    "    stop_words = set(stopwords.words('english'))\n",
    "    line = query.lower()\n",
    "    tokenizer  = RegexpTokenizer(r'\\w+')\n",
    "    ps = PorterStemmer()\n",
    "    \n",
    "    word = line.split()\n",
    "    #removing stop words\n",
    "    words = [w for w in word if not w in stop_words]\n",
    "    #removing Punctuation from each word\n",
    "    punct_remove = [\" \".join(tokenizer.tokenize(w)) for w in words]\n",
    "    #removing stem\n",
    "    stemmed = [ps.stem(w) for w in punct_remove]\n",
    "    #removing Accent\n",
    "    accents = [unicodedata.normalize(u'NFKD', w).encode('ascii', 'ignore').decode('utf8') for w in stemmed]\n",
    "    line = \" \".join(accents)    \n",
    "    \n",
    "    string = \"\"\n",
    "    string += line+\"    \"    \n",
    "    \n",
    "    return string.strip().split()"
   ]
  },
  {
   "cell_type": "code",
   "execution_count": 89,
   "metadata": {},
   "outputs": [],
   "source": [
    "def search_engine_3():\n",
    "    doc_bonus = []\n",
    "    def conjunctive_query():\n",
    "        my_query = input('Search Engine 3: Please enter your query:  ')             \n",
    "        pre_query = preprocessor_query(my_query)\n",
    "\n",
    "        set_docs = []\n",
    "\n",
    "        for word in pre_query:\n",
    "            if word in data.keys():\n",
    "                id_term = str(data[word])\n",
    "\n",
    "            if id_term in index.keys():\n",
    "                set_docs.append(index[id_term])    ## index = inverted index\n",
    "\n",
    "        for i in range(len(set_docs)):\n",
    "            if i == 0:\n",
    "                AND = set(set_docs[i])\n",
    "            elif i == 1:\n",
    "                second = set(set_docs[i])\n",
    "                AND = AND.intersection(second)\n",
    "            else:\n",
    "                th = set(set_docs[i])\n",
    "                AND = AND.intersection(th)\n",
    "\n",
    "        return AND, url_title\n",
    "\n",
    "    def score():\n",
    "        AND, url_title = conjunctive_query()\n",
    "        second_query = int(input('choose your preferred duration time: '))\n",
    "\n",
    "        duration = {}\n",
    "        minutes = []\n",
    "\n",
    "        for i in AND:\n",
    "            fi = open(r'C:\\Users\\Gabriele\\Desktop\\tsv\\article-' + str(i) + '.tsv', encoding = 'utf8' )\n",
    "            text = fi.read()\n",
    "            fi.close()\n",
    "            mins = []\n",
    "\n",
    "            for j in range(13):\n",
    "                mins.append(text[:text.find(\"\\t\")].strip())\n",
    "                text = text[text.find(\"\\t\") + 1:]\n",
    "\n",
    "            l = re.findall('\\d+', mins[-3])\n",
    "            if len(l) >= 1:\n",
    "                score = abs(second_query - int(l[0]))\n",
    "                minutes.append((score, i))\n",
    "            else:\n",
    "                minutes.append((500, i))\n",
    "            if len(l) >= 1:  \n",
    "                duration[str(i)] = int(l[0])\n",
    "            else:\n",
    "                duration[str(i)] = 'NA'\n",
    "        # k = 15\n",
    "        if len(AND) >= 15:\n",
    "            sort_list = heapq.nsmallest(15, minutes)\n",
    "        else:\n",
    "            sort_list = heapq.nsmallest(len(AND), minutes)\n",
    "\n",
    "        return sort_list, url_title, duration\n",
    "\n",
    "    def dataframe_output():\n",
    "        sort_list, url_title, duration = score()\n",
    "        titles = []\n",
    "        intros = []\n",
    "        urls = []\n",
    "        scores = []\n",
    "        duration_time = []\n",
    "        \n",
    "        for i in sort_list:\n",
    "            titles.append(url_title[str(i[1])]['Title'])\n",
    "            intros.append(url_title[str(i[1])]['Intro'])\n",
    "            urls.append(url_title[str(i[1])]['Url'])\n",
    "            scores.append(i[0])\n",
    "            duration_time.append(duration[str(i[1])])\n",
    "            doc_bonus.append(str(i[1]))     \n",
    "    dataframe_output()\n",
    "    return doc_bonus    "
   ]
  },
  {
   "cell_type": "markdown",
   "metadata": {},
   "source": [
    "# Search engine p3\n",
    "here we used the search engine in part 3, modified the code, that in this case this function return the list of document_ids, that fits the users query. "
   ]
  },
  {
   "cell_type": "code",
   "execution_count": 90,
   "metadata": {},
   "outputs": [
    {
     "name": "stdout",
     "output_type": "stream",
     "text": [
      "Search Engine 3: Please enter your query:  batman joker\n",
      "choose your preferred duration time: 80\n"
     ]
    }
   ],
   "source": [
    "doc_id = search_engine_3()"
   ]
  },
  {
   "cell_type": "code",
   "execution_count": 91,
   "metadata": {},
   "outputs": [
    {
     "data": {
      "text/plain": [
       "['16495', '11890', '8019', '17090', '11072', '14523', '15334']"
      ]
     },
     "execution_count": 91,
     "metadata": {},
     "output_type": "execute_result"
    }
   ],
   "source": [
    "doc_id"
   ]
  },
  {
   "cell_type": "markdown",
   "metadata": {},
   "source": [
    "# Opening Tsv\n",
    "remember from the previous part we got the document_ids so we loop through every one of them and extarct from them the info of the actors, and we store them in a dictionary with this shape --> key:is the actors_name value is the list of doc_ids of films he/she has played."
   ]
  },
  {
   "cell_type": "code",
   "execution_count": 98,
   "metadata": {},
   "outputs": [],
   "source": [
    "def actors():\n",
    "    actors = {}\n",
    "    for i in doc_id[:9]:\n",
    "        file = open(r\"C:\\Users\\Gabriele\\Desktop\\tsv\\article-\" + str(i) + \".tsv\", encoding = \"utf8\")\n",
    "        file = file.read().split('\\t')[7].split('\\n')\n",
    "       # file.pop(0)\n",
    "       # file.pop()\n",
    "        for actor in file:\n",
    "            if actor not in actors.keys():\n",
    "                actors[actor] = [i]\n",
    "            else:\n",
    "                actors[actor].append(i)\n",
    "    return actors"
   ]
  },
  {
   "cell_type": "code",
   "execution_count": 99,
   "metadata": {},
   "outputs": [],
   "source": [
    "ll = actors()\n",
    "ll = dict(ll)"
   ]
  },
  {
   "cell_type": "markdown",
   "metadata": {},
   "source": [
    "# Taking only the actors that had played in at least 2 movies"
   ]
  },
  {
   "cell_type": "code",
   "execution_count": 108,
   "metadata": {},
   "outputs": [
    {
     "data": {
      "text/plain": [
       "{' Kevin Conroy ': {'11890', '16495'},\n",
       " ' Christian Bale ': {'14523', '15334'},\n",
       " ' Michael Caine ': {'14523', '15334'},\n",
       " ' Gary Oldman ': {'14523', '15334'},\n",
       " ' Morgan Freeman ': {'14523', '15334'}}"
      ]
     },
     "execution_count": 108,
     "metadata": {},
     "output_type": "execute_result"
    }
   ],
   "source": [
    "actors_dic = {}\n",
    "for k, v in ll.items():\n",
    "    if k == '\"':\n",
    "        continue\n",
    "    elif len(v) >= 2:\n",
    "        actors_dic[k] = v\n",
    "\n",
    "for k,v in actors_dic.items():\n",
    "    actors_dic[k] = set(v)\n",
    "actors_dic "
   ]
  },
  {
   "cell_type": "markdown",
   "metadata": {},
   "source": [
    "# We make intersection between previous results to get the connections.\n",
    "if the length of the intersection is major or equal to 2 then there should be a connection. and we finally we store this edges in a list."
   ]
  },
  {
   "cell_type": "code",
   "execution_count": 114,
   "metadata": {},
   "outputs": [
    {
     "data": {
      "text/plain": [
       "[(' Christian Bale ', ' Michael Caine '),\n",
       " (' Christian Bale ', ' Gary Oldman '),\n",
       " (' Christian Bale ', ' Morgan Freeman '),\n",
       " (' Michael Caine ', ' Christian Bale '),\n",
       " (' Michael Caine ', ' Gary Oldman '),\n",
       " (' Michael Caine ', ' Morgan Freeman '),\n",
       " (' Gary Oldman ', ' Christian Bale '),\n",
       " (' Gary Oldman ', ' Michael Caine '),\n",
       " (' Gary Oldman ', ' Morgan Freeman '),\n",
       " (' Morgan Freeman ', ' Christian Bale '),\n",
       " (' Morgan Freeman ', ' Michael Caine '),\n",
       " (' Morgan Freeman ', ' Gary Oldman ')]"
      ]
     },
     "execution_count": 114,
     "metadata": {},
     "output_type": "execute_result"
    }
   ],
   "source": [
    "edges = []\n",
    "\n",
    "for k, v in actors_dic.items():\n",
    "    for i, j in actors_dic.items():\n",
    "        if i != k:\n",
    "            if len(v.intersection(j)) >= 2:\n",
    "                edges.append((k, i))\n",
    "edges             "
   ]
  },
  {
   "cell_type": "markdown",
   "metadata": {},
   "source": [
    "# Visualizing \n",
    "now we visualize every node and every connection."
   ]
  },
  {
   "cell_type": "code",
   "execution_count": 133,
   "metadata": {},
   "outputs": [
    {
     "data": {
      "image/png": "[encoded data removed]",
      "text/plain": [
       "<Figure size 864x864 with 1 Axes>"
      ]
     },
     "metadata": {},
     "output_type": "display_data"
    }
   ],
   "source": [
    "G = nx.Graph()\n",
    "G.add_edges_from(edges)\n",
    "# drawing part\n",
    "plt.figure(figsize=(12,12))\n",
    "nx.draw(G, with_labels = True, )\n",
    "plt.draw()\n",
    "plt.show()"
   ]
  }
 ],
 "metadata": {
  "kernelspec": {
   "display_name": "Python 3",
   "language": "python",
   "name": "python3"
  },
  "language_info": {
   "codemirror_mode": {
    "name": "ipython",
    "version": 3
   },
   "file_extension": ".py",
   "mimetype": "text/x-python",
   "name": "python",
   "nbconvert_exporter": "python",
   "pygments_lexer": "ipython3",
   "version": "3.7.3"
  }
 },
 "nbformat": 4,
 "nbformat_minor": 2
}
